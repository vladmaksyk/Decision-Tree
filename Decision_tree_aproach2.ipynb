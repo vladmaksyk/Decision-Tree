{
 "cells": [
  {
   "cell_type": "code",
   "execution_count": 82,
   "metadata": {},
   "outputs": [],
   "source": [
    "# #load packeges\n",
    "import csv\n",
    "import pandas as pd\n",
    "import numpy as np\n",
    "import seaborn as sns\n",
    "import matplotlib\n",
    "import matplotlib.pyplot as plt\n",
    "import warnings\n",
    "from scipy.stats import skew\n",
    "from scipy import stats\n",
    "from scipy.stats.stats import pearsonr\n",
    "from scipy.stats import norm\n",
    "from collections import Counter\n",
    "warnings.filterwarnings('ignore')\n",
    "sns.set(style='white', context='notebook', palette='deep')\n",
    "%config InlineBackend.figure_format = 'retina' #set 'png' here when working on notebook\n",
    "%matplotlib inline"
   ]
  },
  {
   "cell_type": "code",
   "execution_count": 85,
   "metadata": {},
   "outputs": [],
   "source": [
    "# Load train and Test set\n",
    "#train = pd.read_csv(\"data/housing_price_train.csv\")\n",
    "#test = pd.read_csv(\"data/housing_price_test.csv\")\n",
    "\n",
    "TRAIN_FILE = pd.read_csv(\"data/basketball.train.csv\")\n",
    "TEST_FILE = pd.read_csv(\"data/basketball.test.csv\")\n",
    "OUTPUT_FILE = \"basketball2.result.csv\""
   ]
  },
  {
   "cell_type": "code",
   "execution_count": 59,
   "metadata": {},
   "outputs": [
    {
     "name": "stdout",
     "output_type": "stream",
     "text": [
      "965705\n",
      "445692\n"
     ]
    }
   ],
   "source": [
    "print(TRAIN_FILE.size)\n",
    "print(TEST_FILE.size)"
   ]
  },
  {
   "cell_type": "code",
   "execution_count": 12,
   "metadata": {},
   "outputs": [
    {
     "data": {
      "text/html": [
       "<div>\n",
       "<style scoped>\n",
       "    .dataframe tbody tr th:only-of-type {\n",
       "        vertical-align: middle;\n",
       "    }\n",
       "\n",
       "    .dataframe tbody tr th {\n",
       "        vertical-align: top;\n",
       "    }\n",
       "\n",
       "    .dataframe thead th {\n",
       "        text-align: right;\n",
       "    }\n",
       "</style>\n",
       "<table border=\"1\" class=\"dataframe\">\n",
       "  <thead>\n",
       "    <tr style=\"text-align: right;\">\n",
       "      <th></th>\n",
       "      <th>H</th>\n",
       "      <th>W</th>\n",
       "      <th>13</th>\n",
       "      <th>3</th>\n",
       "      <th>1</th>\n",
       "      <th>399</th>\n",
       "      <th>11.1</th>\n",
       "      <th>0</th>\n",
       "      <th>3.7</th>\n",
       "      <th>0.5</th>\n",
       "      <th>2</th>\n",
       "      <th>1.1</th>\n",
       "      <th>missed</th>\n",
       "    </tr>\n",
       "  </thead>\n",
       "  <tbody>\n",
       "    <tr>\n",
       "      <th>0</th>\n",
       "      <td>A</td>\n",
       "      <td>L</td>\n",
       "      <td>-12</td>\n",
       "      <td>6</td>\n",
       "      <td>2</td>\n",
       "      <td>369</td>\n",
       "      <td>6.8</td>\n",
       "      <td>0</td>\n",
       "      <td>3.2</td>\n",
       "      <td>16.3</td>\n",
       "      <td>2</td>\n",
       "      <td>5.9</td>\n",
       "      <td>made</td>\n",
       "    </tr>\n",
       "    <tr>\n",
       "      <th>1</th>\n",
       "      <td>A</td>\n",
       "      <td>L</td>\n",
       "      <td>-4</td>\n",
       "      <td>2</td>\n",
       "      <td>2</td>\n",
       "      <td>449</td>\n",
       "      <td>24.0</td>\n",
       "      <td>1</td>\n",
       "      <td>1.6</td>\n",
       "      <td>4.9</td>\n",
       "      <td>2</td>\n",
       "      <td>1.5</td>\n",
       "      <td>missed</td>\n",
       "    </tr>\n",
       "    <tr>\n",
       "      <th>2</th>\n",
       "      <td>A</td>\n",
       "      <td>W</td>\n",
       "      <td>12</td>\n",
       "      <td>7</td>\n",
       "      <td>3</td>\n",
       "      <td>436</td>\n",
       "      <td>16.1</td>\n",
       "      <td>0</td>\n",
       "      <td>1.1</td>\n",
       "      <td>20.2</td>\n",
       "      <td>2</td>\n",
       "      <td>5.0</td>\n",
       "      <td>missed</td>\n",
       "    </tr>\n",
       "    <tr>\n",
       "      <th>3</th>\n",
       "      <td>A</td>\n",
       "      <td>W</td>\n",
       "      <td>4</td>\n",
       "      <td>16</td>\n",
       "      <td>4</td>\n",
       "      <td>253</td>\n",
       "      <td>14.0</td>\n",
       "      <td>5</td>\n",
       "      <td>5.5</td>\n",
       "      <td>8.1</td>\n",
       "      <td>2</td>\n",
       "      <td>3.0</td>\n",
       "      <td>missed</td>\n",
       "    </tr>\n",
       "    <tr>\n",
       "      <th>4</th>\n",
       "      <td>A</td>\n",
       "      <td>L</td>\n",
       "      <td>-19</td>\n",
       "      <td>12</td>\n",
       "      <td>3</td>\n",
       "      <td>359</td>\n",
       "      <td>6.6</td>\n",
       "      <td>2</td>\n",
       "      <td>3.6</td>\n",
       "      <td>7.3</td>\n",
       "      <td>2</td>\n",
       "      <td>2.8</td>\n",
       "      <td>made</td>\n",
       "    </tr>\n",
       "  </tbody>\n",
       "</table>\n",
       "</div>"
      ],
      "text/plain": [
       "   H  W  13   3  1  399  11.1  0  3.7   0.5  2  1.1  missed\n",
       "0  A  L -12   6  2  369   6.8  0  3.2  16.3  2  5.9    made\n",
       "1  A  L  -4   2  2  449  24.0  1  1.6   4.9  2  1.5  missed\n",
       "2  A  W  12   7  3  436  16.1  0  1.1  20.2  2  5.0  missed\n",
       "3  A  W   4  16  4  253  14.0  5  5.5   8.1  2  3.0  missed\n",
       "4  A  L -19  12  3  359   6.6  2  3.6   7.3  2  2.8    made"
      ]
     },
     "execution_count": 12,
     "metadata": {},
     "output_type": "execute_result"
    }
   ],
   "source": [
    "TRAIN_FILE.head()"
   ]
  },
  {
   "cell_type": "code",
   "execution_count": 14,
   "metadata": {},
   "outputs": [
    {
     "name": "stdout",
     "output_type": "stream",
     "text": [
      "[['A' 'L' -12 ... 2 5.9 'made']\n",
      " ['A' 'L' -4 ... 2 1.5 'missed']\n",
      " ['A' 'W' 12 ... 2 5.0 'missed']\n",
      " ...\n",
      " ['A' 'W' 8 ... 2 8.6 'made']\n",
      " ['A' 'L' -9 ... 3 7.2 'missed']\n",
      " ['A' 'L' -8 ... 2 9.6 'missed']]\n"
     ]
    }
   ],
   "source": [
    "print(TRAIN_FILE.values)"
   ]
  },
  {
   "cell_type": "code",
   "execution_count": 29,
   "metadata": {},
   "outputs": [
    {
     "data": {
      "text/html": [
       "<div>\n",
       "<style scoped>\n",
       "    .dataframe tbody tr th:only-of-type {\n",
       "        vertical-align: middle;\n",
       "    }\n",
       "\n",
       "    .dataframe tbody tr th {\n",
       "        vertical-align: top;\n",
       "    }\n",
       "\n",
       "    .dataframe thead th {\n",
       "        text-align: right;\n",
       "    }\n",
       "</style>\n",
       "<table border=\"1\" class=\"dataframe\">\n",
       "  <thead>\n",
       "    <tr style=\"text-align: right;\">\n",
       "      <th></th>\n",
       "      <th>H</th>\n",
       "      <th>W</th>\n",
       "      <th>12</th>\n",
       "      <th>16</th>\n",
       "      <th>3</th>\n",
       "      <th>161</th>\n",
       "      <th>11</th>\n",
       "      <th>5</th>\n",
       "      <th>4.6</th>\n",
       "      <th>6.5</th>\n",
       "      <th>2</th>\n",
       "      <th>2.3</th>\n",
       "    </tr>\n",
       "  </thead>\n",
       "  <tbody>\n",
       "    <tr>\n",
       "      <th>0</th>\n",
       "      <td>H</td>\n",
       "      <td>W</td>\n",
       "      <td>4</td>\n",
       "      <td>3</td>\n",
       "      <td>1</td>\n",
       "      <td>343</td>\n",
       "      <td>15.3</td>\n",
       "      <td>0</td>\n",
       "      <td>0.7</td>\n",
       "      <td>3.1</td>\n",
       "      <td>2</td>\n",
       "      <td>2.7</td>\n",
       "    </tr>\n",
       "    <tr>\n",
       "      <th>1</th>\n",
       "      <td>A</td>\n",
       "      <td>L</td>\n",
       "      <td>-27</td>\n",
       "      <td>2</td>\n",
       "      <td>1</td>\n",
       "      <td>318</td>\n",
       "      <td>15.6</td>\n",
       "      <td>0</td>\n",
       "      <td>1.0</td>\n",
       "      <td>24.5</td>\n",
       "      <td>3</td>\n",
       "      <td>5.0</td>\n",
       "    </tr>\n",
       "    <tr>\n",
       "      <th>2</th>\n",
       "      <td>A</td>\n",
       "      <td>L</td>\n",
       "      <td>-6</td>\n",
       "      <td>5</td>\n",
       "      <td>2</td>\n",
       "      <td>253</td>\n",
       "      <td>16.7</td>\n",
       "      <td>7</td>\n",
       "      <td>7.9</td>\n",
       "      <td>3.0</td>\n",
       "      <td>2</td>\n",
       "      <td>1.1</td>\n",
       "    </tr>\n",
       "    <tr>\n",
       "      <th>3</th>\n",
       "      <td>A</td>\n",
       "      <td>W</td>\n",
       "      <td>2</td>\n",
       "      <td>4</td>\n",
       "      <td>1</td>\n",
       "      <td>365</td>\n",
       "      <td>12.8</td>\n",
       "      <td>1</td>\n",
       "      <td>2.8</td>\n",
       "      <td>4.3</td>\n",
       "      <td>2</td>\n",
       "      <td>2.3</td>\n",
       "    </tr>\n",
       "    <tr>\n",
       "      <th>4</th>\n",
       "      <td>H</td>\n",
       "      <td>L</td>\n",
       "      <td>-7</td>\n",
       "      <td>1</td>\n",
       "      <td>1</td>\n",
       "      <td>681</td>\n",
       "      <td>13.3</td>\n",
       "      <td>3</td>\n",
       "      <td>4.0</td>\n",
       "      <td>17.3</td>\n",
       "      <td>2</td>\n",
       "      <td>3.9</td>\n",
       "    </tr>\n",
       "  </tbody>\n",
       "</table>\n",
       "</div>"
      ],
      "text/plain": [
       "   H  W  12  16  3  161    11  5  4.6   6.5  2  2.3\n",
       "0  H  W   4   3  1  343  15.3  0  0.7   3.1  2  2.7\n",
       "1  A  L -27   2  1  318  15.6  0  1.0  24.5  3  5.0\n",
       "2  A  L  -6   5  2  253  16.7  7  7.9   3.0  2  1.1\n",
       "3  A  W   2   4  1  365  12.8  1  2.8   4.3  2  2.3\n",
       "4  H  L  -7   1  1  681  13.3  3  4.0  17.3  2  3.9"
      ]
     },
     "execution_count": 29,
     "metadata": {},
     "output_type": "execute_result"
    }
   ],
   "source": [
    "TEST_FILE.head()"
   ]
  },
  {
   "cell_type": "code",
   "execution_count": 31,
   "metadata": {},
   "outputs": [
    {
     "data": {
      "text/plain": [
       "array([['H', 'W', 4, ..., 3.1, 2, 2.7],\n",
       "       ['A', 'L', -27, ..., 24.5, 3, 5.0],\n",
       "       ['A', 'L', -6, ..., 3.0, 2, 1.1],\n",
       "       ...,\n",
       "       ['A', 'W', 5, ..., 25.8, 3, 3.3],\n",
       "       ['H', 'L', -2, ..., 22.2, 3, 5.9],\n",
       "       ['A', 'L', -5, ..., 6.8, 2, 3.3]], dtype=object)"
      ]
     },
     "execution_count": 31,
     "metadata": {},
     "output_type": "execute_result"
    }
   ],
   "source": [
    "TEST_FILE.values"
   ]
  },
  {
   "cell_type": "markdown",
   "metadata": {},
   "source": [
    "### Building tree\n",
    "A trick to build an effective tree is to understand which questions to ask and when. And to do that we need to quantify how much a question helps to unmix the label. And we can quantify the amount of uncertainty at a single node using a metrik called Ginni impurity. And we can quantify how much a question reduces that uncertainty using a concept called Information Gain. We will uses this to select the best questions to ask at each point.\n",
    "We will continue deviding the data until there are no more questions to ask at which point we will add a leaf.\n",
    "We need to understand ehat type of questions to ask and how to decide which question to ask when\n",
    "\n",
    "To generate a list of questions we will iterate through every value for every feature that apears in the dataset. Each of this becomes a candidate for a treshold that can be used to partition the data.\n",
    "\n",
    "In response to a question we partition the data in two subsets, the first contains all the rowa for which the question is true and the second contains everythin else.\n",
    "\n",
    "The best question is that reduces our uncertainty the most. And Gini impurity lets us quantify how much uncertainty the is at a node. Information Gain lets us quentify how much a question reduces that.\n",
    "Gini impurity gives us our chances of bein incorect in case where we draw a record from a data and assign a random label to it.\n",
    "\n",
    "Information Gain wil let us fingd a question that reduces out uncertainty the most and its just a number that tells us how much a queston helps to unmix the labels at a node."
   ]
  },
  {
   "cell_type": "code",
   "execution_count": 32,
   "metadata": {},
   "outputs": [],
   "source": [
    "from __future__ import print_function\n",
    "\n",
    "train = TRAIN_FILE.values\n",
    "test = TEST_FILE.values"
   ]
  },
  {
   "cell_type": "code",
   "execution_count": 61,
   "metadata": {},
   "outputs": [
    {
     "data": {
      "text/plain": [
       "37141"
      ]
     },
     "execution_count": 61,
     "metadata": {},
     "output_type": "execute_result"
    }
   ],
   "source": [
    "len(test)"
   ]
  },
  {
   "cell_type": "code",
   "execution_count": 33,
   "metadata": {},
   "outputs": [],
   "source": [
    "header = [\"LOCATION\",\"W\",\"FINAL_MARGIN\", \"SHOT_NUMBER\", \"PERIOD\",\"GAME_CLOCK\", \"SHOT_CLOCK\", \"DRIBBLES\",\"TOUCH_TIME\", \"SHOT_DIST\", \"PTS_TYPE\", \"CLOSE_DEF_DIST\", \"Target\"]\n"
   ]
  },
  {
   "cell_type": "code",
   "execution_count": 34,
   "metadata": {},
   "outputs": [],
   "source": [
    "def unique_vals(rows, col):\n",
    "    return set([row[col] for row in rows])"
   ]
  },
  {
   "cell_type": "code",
   "execution_count": 35,
   "metadata": {},
   "outputs": [],
   "source": [
    "def class_counts(rows):\n",
    "    counts = {}  \n",
    "    for row in rows:\n",
    "        label = row[-1]\n",
    "        if label not in counts:\n",
    "            counts[label] = 0\n",
    "        counts[label] += 1\n",
    "    return counts"
   ]
  },
  {
   "cell_type": "code",
   "execution_count": 36,
   "metadata": {},
   "outputs": [],
   "source": [
    "def is_numeric(value):\n",
    "    return isinstance(value, int) or isinstance(value, float)"
   ]
  },
  {
   "cell_type": "code",
   "execution_count": 37,
   "metadata": {},
   "outputs": [],
   "source": [
    "class Question:\n",
    "\n",
    "    def __init__(self, column, value):\n",
    "        self.column = column  \n",
    "        self.value = value    \n",
    "\n",
    "    def match(self, example):\n",
    "        val = example[self.column]  \n",
    "        if is_numeric(val):\n",
    "            return val >= self.value\n",
    "        else:\n",
    "            return val == self.value \n",
    "\n",
    "    def __repr__(self):\n",
    "        condition = \"==\"\n",
    "        if is_numeric(self.value):\n",
    "            condition = \">=\"\n",
    "        return \"Is %s %s %s?\" % (header[self.column], condition, str(self.value))"
   ]
  },
  {
   "cell_type": "code",
   "execution_count": 38,
   "metadata": {},
   "outputs": [],
   "source": [
    "def partition(rows, question):   # partition to two halfs one that matches the question and another that doesnt\n",
    "    true_rows, false_rows = [], []\n",
    "    for row in rows:\n",
    "        if question.match(row):\n",
    "            true_rows.append(row)\n",
    "        else:\n",
    "            false_rows.append(row)\n",
    "    return true_rows, false_rows"
   ]
  },
  {
   "cell_type": "code",
   "execution_count": 39,
   "metadata": {},
   "outputs": [],
   "source": [
    "def gini(rows):\n",
    "    counts = class_counts(rows)\n",
    "    impurity = 1\n",
    "    for lbl in counts:\n",
    "        prob_of_lbl = counts[lbl] / float(len(rows)) #probabilty of a label\n",
    "        impurity -= prob_of_lbl**2\n",
    "    return impurity"
   ]
  },
  {
   "cell_type": "code",
   "execution_count": 40,
   "metadata": {},
   "outputs": [],
   "source": [
    "# number that describes how much a question helps to unmix the label at a node\n",
    "# the biggest value would be the best question to ask at a particular node\n",
    "def info_gain(left, right, current_uncertainty):# the bigger infogain the better\n",
    "    p = float(len(left)) / (len(left) + len(right))\n",
    "    infogain = current_uncertainty - p * gini(left) - (1 - p) * gini(right)\n",
    "    return infogain"
   ]
  },
  {
   "cell_type": "code",
   "execution_count": 41,
   "metadata": {},
   "outputs": [],
   "source": [
    "def find_best_split(rows):\n",
    "    best_gain = 0  \n",
    "    best_question = None \n",
    "    current_uncertainty = gini(rows)\n",
    "    n_features = len(rows[0]) - 1  \n",
    "\n",
    "    for col in range(n_features): \n",
    "        values = set([row[col] for row in rows])  \n",
    "        for val in values:  \n",
    "            question = Question(col, val)  \n",
    "            true_rows, false_rows = partition(rows, question)\n",
    "            \n",
    "            if len(true_rows) == 0 or len(false_rows) == 0:\n",
    "                continue\n",
    "\n",
    "            gain = info_gain(true_rows, false_rows, current_uncertainty)\n",
    "\n",
    "            if gain >= best_gain:\n",
    "                best_gain, best_question = gain, question\n",
    "\n",
    "    return best_gain, best_question"
   ]
  },
  {
   "cell_type": "markdown",
   "metadata": {},
   "source": [
    "### Generating tree"
   ]
  },
  {
   "cell_type": "code",
   "execution_count": 42,
   "metadata": {},
   "outputs": [],
   "source": [
    "class Leaf:\n",
    "    def __init__(self, rows):\n",
    "        self.predictions = class_counts(rows)"
   ]
  },
  {
   "cell_type": "code",
   "execution_count": 43,
   "metadata": {},
   "outputs": [],
   "source": [
    "class Decision_Node:\n",
    "    def __init__(self, question, true_branch, false_branch):\n",
    "        self.question = question\n",
    "        self.true_branch = true_branch\n",
    "        self.false_branch = false_branch"
   ]
  },
  {
   "cell_type": "code",
   "execution_count": 44,
   "metadata": {},
   "outputs": [],
   "source": [
    "def build_tree(rows):\n",
    "    gain, question = find_best_split(rows)\n",
    "    if gain == 0:\n",
    "        return Leaf(rows)\n",
    "    true_rows, false_rows = partition(rows, question)\n",
    "    true_branch = build_tree(true_rows)\n",
    "    false_branch = build_tree(false_rows)\n",
    "    return Decision_Node(question, true_branch, false_branch)"
   ]
  },
  {
   "cell_type": "code",
   "execution_count": 45,
   "metadata": {},
   "outputs": [],
   "source": [
    "my_tree = build_tree(train)"
   ]
  },
  {
   "cell_type": "code",
   "execution_count": 46,
   "metadata": {},
   "outputs": [],
   "source": [
    "my_tree_cashe = my_tree"
   ]
  },
  {
   "cell_type": "markdown",
   "metadata": {},
   "source": [
    "### Classifying"
   ]
  },
  {
   "cell_type": "code",
   "execution_count": 86,
   "metadata": {},
   "outputs": [],
   "source": [
    "TEST = \"data/basketball.test.csv\""
   ]
  },
  {
   "cell_type": "code",
   "execution_count": 87,
   "metadata": {},
   "outputs": [],
   "source": [
    "def classify(row, node):\n",
    "    if isinstance(node, Leaf):\n",
    "        return node.predictions\n",
    "    if node.question.match(row):\n",
    "        return classify(row, node.true_branch)\n",
    "    else:\n",
    "        return classify(row, node.false_branch)"
   ]
  },
  {
   "cell_type": "code",
   "execution_count": 88,
   "metadata": {},
   "outputs": [],
   "source": [
    "def create_output(test, OUTPUT_FILE):\n",
    "    temp_list = []\n",
    "    with open(test) as f :\n",
    "        csvreader = csv.reader(f,delimiter=',')\n",
    "        cnt = 0\n",
    "        for row in csvreader :\n",
    "            cnt +=1\n",
    "            key_value = classify(row, my_tree)\n",
    "            temp = sorted(key_value.keys())[0]\n",
    "            temp_list.append([cnt, temp])\n",
    "    file = open(OUTPUT_FILE,\"w\")\n",
    "    file.write(\"Id,Target\\n\") \n",
    "    for row in temp_list:\n",
    "        file.write(\"%s,%s\\n\" % (row[0], row[1]))\n",
    "    file.close() \n"
   ]
  },
  {
   "cell_type": "code",
   "execution_count": 89,
   "metadata": {},
   "outputs": [],
   "source": [
    "create_output(TEST, OUTPUT_FILE)"
   ]
  },
  {
   "cell_type": "code",
   "execution_count": null,
   "metadata": {},
   "outputs": [],
   "source": []
  }
 ],
 "metadata": {
  "kernelspec": {
   "display_name": "Python 3",
   "language": "python",
   "name": "python3"
  },
  "language_info": {
   "codemirror_mode": {
    "name": "ipython",
    "version": 3
   },
   "file_extension": ".py",
   "mimetype": "text/x-python",
   "name": "python",
   "nbconvert_exporter": "python",
   "pygments_lexer": "ipython3",
   "version": "3.7.6"
  }
 },
 "nbformat": 4,
 "nbformat_minor": 2
}
